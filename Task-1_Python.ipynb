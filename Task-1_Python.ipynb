{
 "cells": [
  {
   "cell_type": "code",
   "execution_count": 1,
   "id": "e6fdb83d-d3af-4f72-9304-7de921be5aaf",
   "metadata": {},
   "outputs": [
    {
     "name": "stdout",
     "output_type": "stream",
     "text": [
      "[1, 2, 3, 4, 44, 55, 66, 34, 56, 78, 89, 34, 1, 2, 3, 1, 4, 34, 55, 67, 78, 89, 45, 22, 61, 34, 56]\n",
      "4134711838987085478833841242112000\n"
     ]
    }
   ],
   "source": [
    "                                             #SOLUTION_1\n",
    "\n",
    "def produ_ct(lis_t):\n",
    "    pro=1\n",
    "    Flat_list=[]\n",
    "    for i in lis_t:\n",
    "        if type(i)==int:\n",
    "            pro=pro*i\n",
    "            Flat_list.append(i)\n",
    "        elif type(i)==list or type(i)==tuple:\n",
    "            for j in i:\n",
    "                if type(j)==int:\n",
    "                    pro=pro*j\n",
    "                    Flat_list.append(j)\n",
    "               \n",
    "        elif type(i)==dict:\n",
    "            x=i.keys()\n",
    "            for k in x:\n",
    "                if type(k)==int:\n",
    "                    pro=pro*k\n",
    "                    Flat_list.append(k)\n",
    "              \n",
    "            y=i.values()\n",
    "            for l in y:\n",
    "                if type(l)==int:\n",
    "                    pro=pro*l\n",
    "                    Flat_list.append(l)\n",
    "                elif type(l)==tuple or type(l)==list:\n",
    "                    for m in l:\n",
    "                        pro=pro*m\n",
    "                        Flat_list.append(m)\n",
    "        elif type(i)==set:\n",
    "            j=list(i)\n",
    "            from functools import reduce\n",
    "            pro=pro*reduce(lambda x,y:x*y,j)\n",
    "            for w in j:\n",
    "                Flat_list.append(w)\n",
    "        else:\n",
    "            continue\n",
    "    print(Flat_list)\n",
    "    return pro\n",
    "    \n",
    "                \n",
    "         \n",
    "list1 = [1,2,3,4, [44,55,66, True], False, (34,56,78,89,34), {1,2,3,3,2,1}, {1:34, \"key2\": [55, 67, 78, 89], 4: (45, \n",
    "22, 61, 34)}, [56, 'data science'], 'Machine Learning']\n",
    "product=produ_ct(list1)\n",
    "print(product)"
   ]
  },
  {
   "cell_type": "code",
   "execution_count": 18,
   "id": "20041a82-b30d-4747-b515-c73eb8c527eb",
   "metadata": {},
   "outputs": [
    {
     "name": "stdin",
     "output_type": "stream",
     "text": [
      "enter the message: I want to become a Data Scientist\n"
     ]
    },
    {
     "name": "stdout",
     "output_type": "stream",
     "text": [
      "i$wznt$to$yexome$z$dztz$sxientist\n"
     ]
    }
   ],
   "source": [
    "                                                #SOLUTION 2\n",
    "message=input(\"enter the message:\")\n",
    "final=message.lower()\n",
    "final=final.replace(\" \",\"$\")\n",
    "final=final.replace(\"a\",\"z\")\n",
    "final=final.replace(\"b\",\"y\")\n",
    "final=final.replace(\"c\",\"x\")\n",
    "print(final)   "
   ]
  }
 ],
 "metadata": {
  "kernelspec": {
   "display_name": "Python 3 (ipykernel)",
   "language": "python",
   "name": "python3"
  },
  "language_info": {
   "codemirror_mode": {
    "name": "ipython",
    "version": 3
   },
   "file_extension": ".py",
   "mimetype": "text/x-python",
   "name": "python",
   "nbconvert_exporter": "python",
   "pygments_lexer": "ipython3",
   "version": "3.10.6"
  }
 },
 "nbformat": 4,
 "nbformat_minor": 5
}
